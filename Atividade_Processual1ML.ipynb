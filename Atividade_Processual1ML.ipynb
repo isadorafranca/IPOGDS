{
  "nbformat": 4,
  "nbformat_minor": 0,
  "metadata": {
    "colab": {
      "provenance": [],
      "authorship_tag": "ABX9TyOtwB7ENLSxl9XemLPCQtk5",
      "include_colab_link": true
    },
    "kernelspec": {
      "name": "python3",
      "display_name": "Python 3"
    },
    "language_info": {
      "name": "python"
    }
  },
  "cells": [
    {
      "cell_type": "markdown",
      "metadata": {
        "id": "view-in-github",
        "colab_type": "text"
      },
      "source": [
        "<a href=\"https://colab.research.google.com/github/isadorafranca/IPOGDS/blob/main/Atividade_Processual1ML.ipynb\" target=\"_parent\"><img src=\"https://colab.research.google.com/assets/colab-badge.svg\" alt=\"Open In Colab\"/></a>"
      ]
    },
    {
      "cell_type": "code",
      "execution_count": 1,
      "metadata": {
        "id": "XTU34gtmEQH7"
      },
      "outputs": [],
      "source": [
        "import pandas as pd"
      ]
    },
    {
      "cell_type": "code",
      "source": [
        "# Carregar o arquivo CSV\n",
        "data = pd.read_csv('/content/arXiv_scientific dataset.csv')"
      ],
      "metadata": {
        "id": "IdhP9QiiFJ5f"
      },
      "execution_count": 3,
      "outputs": []
    },
    {
      "cell_type": "code",
      "source": [
        "# Verificar os primeiros registros\n",
        "print(data.head())"
      ],
      "metadata": {
        "colab": {
          "base_uri": "https://localhost:8080/"
        },
        "id": "BzNhuEI-GxGF",
        "outputId": "50f1f720-3f7d-4b5e-df1c-e8f978f72cd2"
      },
      "execution_count": 4,
      "outputs": [
        {
          "output_type": "stream",
          "name": "stdout",
          "text": [
            "             id                                              title  \\\n",
            "0  cs-9308101v1                               Dynamic Backtracking   \n",
            "1  cs-9308102v1  A Market-Oriented Programming Environment and ...   \n",
            "2  cs-9309101v1            An Empirical Analysis of Search in GSAT   \n",
            "3  cs-9311101v1  The Difficulties of Learning Logic Programs wi...   \n",
            "4  cs-9311102v1  Software Agents: Completing Patterns and Const...   \n",
            "\n",
            "                  category category_code published_date updated_date  \\\n",
            "0  Artificial Intelligence         cs.AI         8/1/93       8/1/93   \n",
            "1  Artificial Intelligence         cs.AI         8/1/93       8/1/93   \n",
            "2  Artificial Intelligence         cs.AI         9/1/93       9/1/93   \n",
            "3  Artificial Intelligence         cs.AI        11/1/93      11/1/93   \n",
            "4  Artificial Intelligence         cs.AI        11/1/93      11/1/93   \n",
            "\n",
            "                                          authors       first_author  \\\n",
            "0                              ['M. L. Ginsberg']   'M. L. Ginsberg'   \n",
            "1                               ['M. P. Wellman']    'M. P. Wellman'   \n",
            "2                      ['I. P. Gent', 'T. Walsh']       'I. P. Gent'   \n",
            "3  ['F. Bergadano', 'D. Gunetti', 'U. Trinchero']     'F. Bergadano'   \n",
            "4            ['J. C. Schlimmer', 'L. A. Hermens']  'J. C. Schlimmer'   \n",
            "\n",
            "                                             summary  summary_word_count  \n",
            "0  Because of their occasional need to return to ...                  79  \n",
            "1  Market price systems constitute a well-underst...                 119  \n",
            "2  We describe an extensive study of search in GS...                 167  \n",
            "3  As real logic programmers normally use cut (!)...                 174  \n",
            "4  To support the goal of allowing users to recor...                 187  \n"
          ]
        }
      ]
    },
    {
      "cell_type": "code",
      "source": [
        "# Verificar os tipos de dados de cada coluna\n",
        "print(data.dtypes)"
      ],
      "metadata": {
        "colab": {
          "base_uri": "https://localhost:8080/"
        },
        "id": "e2uc3DfnHDbL",
        "outputId": "4b09ec7d-1575-4e36-b2bf-a677f431c161"
      },
      "execution_count": 5,
      "outputs": [
        {
          "output_type": "stream",
          "name": "stdout",
          "text": [
            "id                    object\n",
            "title                 object\n",
            "category              object\n",
            "category_code         object\n",
            "published_date        object\n",
            "updated_date          object\n",
            "authors               object\n",
            "first_author          object\n",
            "summary               object\n",
            "summary_word_count     int64\n",
            "dtype: object\n"
          ]
        }
      ]
    },
    {
      "cell_type": "code",
      "source": [
        "# Número de amostras e variáveis\n",
        "print(f\"Número de amostras: {data.shape[0]}\")\n",
        "print(f\"Número de variáveis: {data.shape[1]}\")"
      ],
      "metadata": {
        "colab": {
          "base_uri": "https://localhost:8080/"
        },
        "id": "hFoaqZGlHKDn",
        "outputId": "1d2f3d6c-ae0c-4f47-bafa-6a47c88726be"
      },
      "execution_count": 6,
      "outputs": [
        {
          "output_type": "stream",
          "name": "stdout",
          "text": [
            "Número de amostras: 136238\n",
            "Número de variáveis: 10\n"
          ]
        }
      ]
    },
    {
      "cell_type": "code",
      "source": [
        "# Verificar se a coluna 'year' existe\n",
        "if 'year' in data.columns:\n",
        "    # Calcular média, mediana e moda do ano de publicação\n",
        "    print(f\"Média do ano de publicação: {data['year'].mean()}\")\n",
        "    print(f\"Mediana do ano de publicação: {data['year'].median()}\")\n",
        "    print(f\"Moda do ano de publicação: {data['year'].mode().values[0]}\")\n",
        "else:\n",
        "    print(\"A coluna 'year' não está presente no conjunto de dados.\")"
      ],
      "metadata": {
        "colab": {
          "base_uri": "https://localhost:8080/"
        },
        "id": "FQh-ZGTbHOto",
        "outputId": "c7338aed-1d85-4800-fdec-f2582fb8da3e"
      },
      "execution_count": 7,
      "outputs": [
        {
          "output_type": "stream",
          "name": "stdout",
          "text": [
            "A coluna 'year' não está presente no conjunto de dados.\n"
          ]
        }
      ]
    },
    {
      "cell_type": "code",
      "source": [
        "# Criar uma coluna com o número de categorias por artigo\n",
        "if 'categories' in data.columns:\n",
        "    data['num_categories'] = data['categories'].apply(lambda x: len(x.split()))\n",
        "\n",
        "    # Calcular a correlação entre o ano de publicação e o número de categorias\n",
        "    correlation = data[['year', 'num_categories']].corr()\n",
        "    print(correlation)\n",
        "\n",
        "    # Visualizar a correlação com um heatmap\n",
        "    import seaborn as sns\n",
        "    import matplotlib.pyplot as plt\n",
        "\n",
        "    plt.figure(figsize=(6, 4))\n",
        "    sns.heatmap(correlation, annot=True, cmap='coolwarm')\n",
        "    plt.title('Correlação entre Ano de Publicação e Número de Categorias')\n",
        "    plt.show()\n",
        "else:\n",
        "    print(\"A coluna 'categories' não está presente no conjunto de dados.\")\n"
      ],
      "metadata": {
        "colab": {
          "base_uri": "https://localhost:8080/"
        },
        "id": "9_Wxw2gwHXx5",
        "outputId": "2b382df4-e67b-41bd-8edd-d842c582b481"
      },
      "execution_count": 11,
      "outputs": [
        {
          "output_type": "stream",
          "name": "stdout",
          "text": [
            "A coluna 'categories' não está presente no conjunto de dados.\n"
          ]
        }
      ]
    },
    {
      "cell_type": "code",
      "source": [],
      "metadata": {
        "id": "3tK_VXsYHfV_"
      },
      "execution_count": null,
      "outputs": []
    }
  ]
}